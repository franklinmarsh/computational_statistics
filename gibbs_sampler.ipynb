{
 "cells": [
  {
   "cell_type": "code",
   "execution_count": 1,
   "metadata": {
    "collapsed": false
   },
   "outputs": [
    {
     "name": "stderr",
     "output_type": "stream",
     "text": [
      "/Users/Franklin/anaconda/lib/python2.7/site-packages/matplotlib/font_manager.py:273: UserWarning: Matplotlib is building the font cache using fc-list. This may take a moment.\n",
      "  warnings.warn('Matplotlib is building the font cache using fc-list. This may take a moment.')\n"
     ]
    }
   ],
   "source": [
    "# Gibbs sampler for the change-point model described in a Cognition cheat sheet titled \"Gibbs sampling.\"\n",
    "# This is a Python implementation of the procedure at http://www.cmpe.boun.edu.tr/courses/cmpe58n/fall2009/\n",
    "# Written by Ilker Yildirim, September 2012.\n",
    "\n",
    "from scipy.stats import uniform, gamma, poisson\n",
    "import matplotlib.pyplot as plt\n",
    "import numpy\n",
    "from numpy import log,exp\n",
    "from numpy.random import multinomial\n",
    "\n",
    "# fix the random seed for replicability.\n",
    "numpy.random.seed(123456789)"
   ]
  },
  {
   "cell_type": "code",
   "execution_count": null,
   "metadata": {
    "collapsed": true
   },
   "outputs": [],
   "source": [
    "# Hyperparameters\n",
    "N=50\n",
    "a=2\n",
    "b=1\n",
    "\n",
    "# Change-point: where the intensity parameter changes.\n",
    "n=int(round(uniform.rvs()*N))\n",
    "print str(n)\n",
    "\n",
    "# Intensity values\n",
    "lambda1=gamma.rvs(a,scale=1./b) # We use 1/b instead of b because of the way Gamma distribution is parametrized in the package random.\n",
    "lambda2=gamma.rvs(a,scale=1./b)\n",
    "\n",
    "lambdas=[lambda1]*n\n",
    "lambdas[n:N-1]=[lambda2]*(N-n)\n",
    "\n",
    "# Observations, x_1 ... x_N\n",
    "x=poisson.rvs(lambdas)"
   ]
  },
  {
   "cell_type": "code",
   "execution_count": null,
   "metadata": {
    "collapsed": true
   },
   "outputs": [],
   "source": [
    "# make one big subplots and put everything in it.\n",
    "f, (ax1,ax2,ax3,ax4,ax5)=plt.subplots(5,1)\n",
    "# Plot the data\n",
    "ax1.stem(range(N),x,linefmt='b-', markerfmt='bo')\n",
    "ax1.plot(range(N),lambdas,'r--')\n",
    "ax1.set_ylabel('Counts')\n",
    "\n",
    "# Gibbs sampler\n",
    "E=5200\n",
    "BURN_IN=200\n",
    "\n",
    "# Initialize the chain\n",
    "n=int(round(uniform.rvs()*N))\n",
    "lambda1=gamma.rvs(a,scale=1./b)\n",
    "lambda2=gamma.rvs(a,scale=1./b)\n",
    "\n",
    "# Store the samples\n",
    "chain_n=numpy.array([0.]*(E-BURN_IN))\n",
    "chain_lambda1=numpy.array([0.]*(E-BURN_IN))\n",
    "chain_lambda2=numpy.array([0.]*(E-BURN_IN))\n",
    "\n",
    "for e in range(E):\n",
    "\tprint \"At iteration \"+str(e)\n",
    "\t# sample lambda1 and lambda2 from their posterior conditionals, Equation 8 and Equation 9, respectively.\n",
    "\tlambda1=gamma.rvs(a+sum(x[0:n]), scale=1./(n+b))\n",
    "\tlambda2=gamma.rvs(a+sum(x[n:N]), scale=1./(N-n+b))\n",
    "\t\n",
    "\t# sample n, Equation 10\n",
    "\tmult_n=numpy.array([0]*N)\n",
    "\tfor i in range(N):\n",
    "\t\tmult_n[i]=sum(x[0:i])*log(lambda1)-i*lambda1+sum(x[i:N])*log(lambda2)-(N-i)*lambda2\n",
    "\tmult_n=exp(mult_n-max(mult_n))\n",
    "\tn=numpy.where(multinomial(1,mult_n/sum(mult_n),size=1)==1)[1][0]\n",
    "\t\n",
    "\t# store\n",
    "\tif e>=BURN_IN:\n",
    "\t\tchain_n[e-BURN_IN]=n\n",
    "\t\tchain_lambda1[e-BURN_IN]=lambda1\n",
    "\t\tchain_lambda2[e-BURN_IN]=lambda2\n",
    "\n",
    "ax2.plot(chain_lambda1,'b',chain_lambda2,'g')\n",
    "ax2.set_ylabel('$\\lambda$')\n",
    "ax3.hist(chain_lambda1,20)\n",
    "ax3.set_xlabel('$\\lambda_1$')\n",
    "ax3.set_xlim([0,12])\n",
    "ax4.hist(chain_lambda2,20,color='g')\n",
    "ax4.set_xlim([0,12])\n",
    "ax4.set_xlabel('$\\lambda_2$')\n",
    "ax5.hist(chain_n,50)\n",
    "ax5.set_xlabel('n')\n",
    "ax5.set_xlim([1,50])\n",
    "plt.show()"
   ]
  }
 ],
 "metadata": {
  "kernelspec": {
   "display_name": "Python 2",
   "language": "python",
   "name": "python2"
  },
  "language_info": {
   "codemirror_mode": {
    "name": "ipython",
    "version": 2
   },
   "file_extension": ".py",
   "mimetype": "text/x-python",
   "name": "python",
   "nbconvert_exporter": "python",
   "pygments_lexer": "ipython2",
   "version": "2.7.12"
  }
 },
 "nbformat": 4,
 "nbformat_minor": 0
}
