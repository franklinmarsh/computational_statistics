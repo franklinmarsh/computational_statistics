{
 "cells": [
  {
   "cell_type": "code",
   "execution_count": 1,
   "metadata": {
    "collapsed": false
   },
   "outputs": [
    {
     "name": "stderr",
     "output_type": "stream",
     "text": [
      "/Users/Franklin/anaconda/lib/python2.7/site-packages/matplotlib/font_manager.py:273: UserWarning: Matplotlib is building the font cache using fc-list. This may take a moment.\n",
      "  warnings.warn('Matplotlib is building the font cache using fc-list. This may take a moment.')\n"
     ]
    }
   ],
   "source": [
    "# Gibbs sampler for the change-point model described in a Cognition cheat sheet titled \"Gibbs sampling.\"\n",
    "# This is a Python implementation of the procedure at http://www.cmpe.boun.edu.tr/courses/cmpe58n/fall2009/\n",
    "# Written by Ilker Yildirim, September 2012.\n",
    "\n",
    "from scipy.stats import uniform, gamma, poisson\n",
    "import matplotlib.pyplot as plt\n",
    "import numpy\n",
    "from numpy import log,exp\n",
    "from numpy.random import multinomial\n",
    "\n",
    "# fix the random seed for replicability.\n",
    "numpy.random.seed(123456789)\n",
    "\n",
    "%matplotlib inline"
   ]
  },
  {
   "cell_type": "code",
   "execution_count": 4,
   "metadata": {
    "collapsed": false
   },
   "outputs": [
    {
     "name": "stdout",
     "output_type": "stream",
     "text": [
      "50\n"
     ]
    }
   ],
   "source": [
    "# Hyperparameters\n",
    "N=100\n",
    "a=2\n",
    "b=1\n",
    "\n",
    "# Change-point: where the intensity parameter changes.\n",
    "#n=int(round(uniform.rvs()*N))\n",
    "n = 50\n",
    "print str(n)\n",
    "\n",
    "# Intensity values\n",
    "#lambda1=gamma.rvs(a,scale=1./b) # We use 1/b instead of b because of the way Gamma distribution is parametrized in the package random.\n",
    "#lambda2=gamma.rvs(a,scale=1./b)\n",
    "\n",
    "lambda1 = 3.479722 # We use 1/b instead of b because of the way Gamma distribution is parametrized in the package random.\n",
    "lambda2 = 0.3134539\n",
    "\n",
    "lambdas=[lambda1]*n\n",
    "lambdas[n:N-1]=[lambda2]*(N-n)\n",
    "\n",
    "# Observations, x_1 ... x_N\n",
    "x=poisson.rvs(lambdas)"
   ]
  },
  {
   "cell_type": "code",
   "execution_count": 10,
   "metadata": {
    "collapsed": false
   },
   "outputs": [
    {
     "name": "stdout",
     "output_type": "stream",
     "text": [
      "At iteration 0\n",
      "At iteration 1\n",
      "At iteration 2\n",
      "At iteration 3\n",
      "At iteration 4\n",
      "At iteration 5\n",
      "At iteration 6\n",
      "At iteration 7\n",
      "At iteration 8\n",
      "At iteration 9\n",
      "At iteration 10\n",
      "At iteration 11\n",
      "At iteration 12\n",
      "At iteration 13\n",
      "At iteration 14\n",
      "At iteration 15\n",
      "At iteration 16\n",
      "At iteration 17\n",
      "At iteration 18\n",
      "At iteration 19\n",
      "At iteration 20\n",
      "At iteration 21\n",
      "At iteration 22\n",
      "At iteration 23\n",
      "At iteration 24\n",
      "At iteration 25\n",
      "At iteration 26\n",
      "At iteration 27\n",
      "At iteration 28\n",
      "At iteration 29\n",
      "At iteration 30\n",
      "At iteration 31\n",
      "At iteration 32\n",
      "At iteration 33\n",
      "At iteration 34\n",
      "At iteration 35\n",
      "At iteration 36\n",
      "At iteration 37\n",
      "At iteration 38\n",
      "At iteration 39\n",
      "At iteration 40\n",
      "At iteration 41\n",
      "At iteration 42\n",
      "At iteration 43\n",
      "At iteration 44\n",
      "At iteration 45\n",
      "At iteration 46\n",
      "At iteration 47\n",
      "At iteration 48\n",
      "At iteration 49\n",
      "At iteration 50\n",
      "At iteration 51\n",
      "At iteration 52\n",
      "At iteration 53\n",
      "At iteration 54\n",
      "At iteration 55\n",
      "At iteration 56\n",
      "At iteration 57\n",
      "At iteration 58\n",
      "At iteration 59\n",
      "At iteration 60\n",
      "At iteration 61\n",
      "At iteration 62\n",
      "At iteration 63\n",
      "At iteration 64\n",
      "At iteration 65\n",
      "At iteration 66\n",
      "At iteration 67\n",
      "At iteration 68\n",
      "At iteration 69\n",
      "At iteration 70\n",
      "At iteration 71\n",
      "At iteration 72\n",
      "At iteration 73\n",
      "At iteration 74\n",
      "At iteration 75\n",
      "At iteration 76\n",
      "At iteration 77\n",
      "At iteration 78\n",
      "At iteration 79\n",
      "At iteration 80\n",
      "At iteration 81\n",
      "At iteration 82\n",
      "At iteration 83\n",
      "At iteration 84\n",
      "At iteration 85\n",
      "At iteration 86\n",
      "At iteration 87\n",
      "At iteration 88\n",
      "At iteration 89\n",
      "At iteration 90\n",
      "At iteration 91\n",
      "At iteration 92\n",
      "At iteration 93\n",
      "At iteration 94\n",
      "At iteration 95\n",
      "At iteration 96\n",
      "At iteration 97\n",
      "At iteration 98\n",
      "At iteration 99\n",
      "At iteration 100\n",
      "At iteration 101\n",
      "At iteration 102\n",
      "At iteration 103\n",
      "At iteration 104\n",
      "At iteration 105\n",
      "At iteration 106\n",
      "At iteration 107\n",
      "At iteration 108\n",
      "At iteration 109\n"
     ]
    },
    {
     "data": {
      "image/png": "[encoded data removed]",
      "text/plain": [
       "<matplotlib.figure.Figure at 0x116700790>"
      ]
     },
     "metadata": {},
     "output_type": "display_data"
    }
   ],
   "source": [
    "# make one big subplots and put everything in it.\n",
    "f, (ax1,ax2,ax3,ax4,ax5)=plt.subplots(5,1)\n",
    "# Plot the data\n",
    "ax1.stem(range(N),x,linefmt='b-', markerfmt='bo')\n",
    "ax1.plot(range(N),lambdas,'r--')\n",
    "ax1.set_ylabel('Counts')\n",
    "\n",
    "# Gibbs sampler\n",
    "E=110\n",
    "BURN_IN=10\n",
    "\n",
    "# Initialize the chain\n",
    "n=int(round(uniform.rvs()*N))\n",
    "lambda1=gamma.rvs(a,scale=1./b)\n",
    "lambda2=gamma.rvs(a,scale=1./b)\n",
    "\n",
    "# Store the samples\n",
    "chain_n=numpy.array([0.]*(E-BURN_IN))\n",
    "chain_lambda1=numpy.array([0.]*(E-BURN_IN))\n",
    "chain_lambda2=numpy.array([0.]*(E-BURN_IN))\n",
    "\n",
    "for e in range(E):\n",
    "\tprint \"At iteration \"+str(e)\n",
    "\t# sample lambda1 and lambda2 from their posterior conditionals, Equation 8 and Equation 9, respectively.\n",
    "\tlambda1=gamma.rvs(a+sum(x[0:n]), scale=1./(n+b))\n",
    "\tlambda2=gamma.rvs(a+sum(x[n:N]), scale=1./(N-n+b))\n",
    "\t\n",
    "\t# sample n, Equation 10\n",
    "\tf_mult_n=numpy.array([0]*N)\n",
    "\tfor i in range(N):\n",
    "\t\tf_mult_n[i]=sum(x[0:i])*log(lambda1)-i*lambda1+sum(x[i:N])*log(lambda2)-(N-i)*lambda2\n",
    "\tmult_n=exp(f_mult_n-max(f_mult_n))\n",
    "\tn=numpy.where(multinomial(1,mult_n/sum(mult_n),size=1)==1)[1][0]\n",
    "\t\n",
    "\t# store\n",
    "\tif e>=BURN_IN:\n",
    "\t\tchain_n[e-BURN_IN]=n\n",
    "\t\tchain_lambda1[e-BURN_IN]=lambda1\n",
    "\t\tchain_lambda2[e-BURN_IN]=lambda2\n",
    "\n",
    "ax2.plot(chain_lambda1,'b',chain_lambda2,'g')\n",
    "ax2.set_ylabel('$\\lambda$')\n",
    "ax3.hist(chain_lambda1,20)\n",
    "ax3.set_xlabel('$\\lambda_1$')\n",
    "ax3.set_xlim([0,12])\n",
    "ax4.hist(chain_lambda2,20,color='g')\n",
    "ax4.set_xlim([0,12])\n",
    "ax4.set_xlabel('$\\lambda_2$')\n",
    "ax5.hist(chain_n,50)\n",
    "ax5.set_xlabel('n')\n",
    "ax5.set_xlim([1,100])\n",
    "plt.show()"
   ]
  },
  {
   "cell_type": "code",
   "execution_count": 11,
   "metadata": {
    "collapsed": false
   },
   "outputs": [
    {
     "data": {
      "text/plain": [
       "[<matplotlib.lines.Line2D at 0x10f3f0b10>]"
      ]
     },
     "execution_count": 11,
     "metadata": {},
     "output_type": "execute_result"
    },
    {
     "data": {
      "image/png": "[encoded data removed]",
      "text/plain": [
       "<matplotlib.figure.Figure at 0x11673e090>"
      ]
     },
     "metadata": {},
     "output_type": "display_data"
    }
   ],
   "source": [
    "plt.plot(f_mult_n)"
   ]
  },
  {
   "cell_type": "code",
   "execution_count": 12,
   "metadata": {
    "collapsed": true
   },
   "outputs": [],
   "source": [
    "?gamma.rvs"
   ]
  },
  {
   "cell_type": "code",
   "execution_count": null,
   "metadata": {
    "collapsed": true
   },
   "outputs": [],
   "source": []
  }
 ],
 "metadata": {
  "kernelspec": {
   "display_name": "Python 2",
   "language": "python",
   "name": "python2"
  },
  "language_info": {
   "codemirror_mode": {
    "name": "ipython",
    "version": 2
   },
   "file_extension": ".py",
   "mimetype": "text/x-python",
   "name": "python",
   "nbconvert_exporter": "python",
   "pygments_lexer": "ipython2",
   "version": "2.7.12"
  }
 },
 "nbformat": 4,
 "nbformat_minor": 0
}
