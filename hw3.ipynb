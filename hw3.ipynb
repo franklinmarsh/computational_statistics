{
 "cells": [
  {
   "cell_type": "markdown",
   "metadata": {},
   "source": [
    "# Homework 3\n",
    "\n",
    "### By James Kinney and Franklin Marsh\n",
    "\n",
    "MATH0154\n",
    "with Prof. 😁Gabe Chandler😁 "
   ]
  },
  {
   "cell_type": "markdown",
   "metadata": {},
   "source": [
    "First, we need to generate $x_{0}$ which is the initial sequence of numbers $[1,2,3...,m]$. The following function generates $x_{0}$ for arbitrary $m$."
   ]
  },
  {
   "cell_type": "markdown",
   "metadata": {},
   "source": [
    "🙌 👏 🍻"
   ]
  },
  {
   "cell_type": "code",
   "execution_count": 7,
   "metadata": {
    "collapsed": true
   },
   "outputs": [],
   "source": [
    "GenX0 <- function(m = NULL, initialPerm = NULL) {\n",
    "    #\n",
    "    # Function to generate the sequence of the first m positive integers [1,2,3...m]\n",
    "    #\n",
    "    # Args:\n",
    "    #    m: integer length of the sequence\n",
    "    #    initialPerm: a vector of numbers to be sorted\n",
    "    # Returns:\n",
    "    #     x0: sequence integers: [1,2,3...m]\n",
    "    \n",
    "    \n",
    "    # The input should be either an inital permutation of an m\n",
    "    # If both are given, the m will be used\n",
    "    if (!is.null(m)){\n",
    "        return(c(1:m))\n",
    "    }\n",
    "    # If m is null, sort the initial vector into increasing order\n",
    "    else {\n",
    "        return (sort(initialPerm, decreasing = FALSE))\n",
    "    }\n",
    "}\n"
   ]
  },
  {
   "cell_type": "code",
   "execution_count": 8,
   "metadata": {
    "collapsed": false
   },
   "outputs": [
    {
     "name": "stdout",
     "output_type": "stream",
     "text": [
      "[1] 1 2 3 4 5 6 7\n"
     ]
    }
   ],
   "source": [
    "ex_sequence <- GenX0(7) #example sequence\n",
    "print(ex_sequence) #print the example sequence"
   ]
  },
  {
   "cell_type": "markdown",
   "metadata": {},
   "source": [
    "To generate a list of vectors that could possibly be neighbors, we need to swap two elements in the initial vector $x_{0}$. For this, we will write a swap function."
   ]
  },
  {
   "cell_type": "code",
   "execution_count": 9,
   "metadata": {
    "collapsed": true
   },
   "outputs": [],
   "source": [
    "Swap <- function (x, i, j) {\n",
    "    #\n",
    "    # Function to swap two elements (i,j) in an input vector x.\n",
    "    #\n",
    "    # Args:\n",
    "    #    x: sequence on which to perform the swap.\n",
    "    #    i: index less than length(x)\n",
    "    #    j: index less than length(x)\n",
    "    # Returns:\n",
    "    #     x_swap: new vector with indices i and j swapped.\n",
    "    \n",
    "    tempI <- x[i] # Save the ith element\n",
    "    x[i] <- x[j] # Change the ith element to the jth element\n",
    "    x[j] <- tempI # Change the jth element to the ith element\n",
    "    return (x) # Return the new vector\n",
    "}\n"
   ]
  },
  {
   "cell_type": "code",
   "execution_count": 10,
   "metadata": {
    "collapsed": false
   },
   "outputs": [
    {
     "name": "stdout",
     "output_type": "stream",
     "text": [
      "[1] 1 4 3 2 5 6 7\n"
     ]
    }
   ],
   "source": [
    "ex_swap <- Swap(ex_sequence, 2, 4) #swap the 2nd element with the 4th element.\n",
    "print(ex_swap) #print the sequence with the 2nd element and the 4th element swapped."
   ]
  },
  {
   "cell_type": "markdown",
   "metadata": {},
   "source": [
    "We will now write a function to generate all of the possible two-element swaps in a vector."
   ]
  },
  {
   "cell_type": "code",
   "execution_count": 11,
   "metadata": {
    "collapsed": true
   },
   "outputs": [],
   "source": [
    "GenSwaps <- function(x) {\n",
    "    #\n",
    "    # Function to generate all unique swaps of  two elements (i,j) in an input vector x.\n",
    "    #\n",
    "    # Args:\n",
    "    #    x: sequence on which to perform the generation of the list of 1 possilbe swap.\n",
    "    # Returns:\n",
    "    #    output: vector of possible swaps\n",
    "    # Dependencies:\n",
    "    #    function: Swap\n",
    "    \n",
    "    # Input is a vector of the permutation in order\n",
    "\n",
    "    output <- c()   # Initialize empty list to hold all possible permutations with 1 swap\n",
    "    for (i in (1:length(x))) { # Loop through each element and generate the swaps with all the elements after it\n",
    "        for (j in (i:length(x))) {\n",
    "        append(output, Swap(x, i, j), after = length(output)) # Add each new potential neighbor to the vector to store them\n",
    "        }\n",
    "    }\n",
    "    return(output)\n",
    "}"
   ]
  },
  {
   "cell_type": "code",
   "execution_count": 14,
   "metadata": {
    "collapsed": false
   },
   "outputs": [
    {
     "name": "stdout",
     "output_type": "stream",
     "text": [
      "NULL\n"
     ]
    }
   ],
   "source": [
    "ex_gen_swaps <- GenSwaps(ex_sequence)\n",
    "print(ex_gen_swaps)"
   ]
  },
  {
   "cell_type": "markdown",
   "metadata": {},
   "source": [
    "We will need to find the size of every possible swap created by GenSwaps. The size of a vector $V$ is defined as: $\\sum_{i}^{m}i \\times V_{i}$, where $m$ is the length of the vector $V$."
   ]
  },
  {
   "cell_type": "code",
   "execution_count": 17,
   "metadata": {
    "collapsed": true
   },
   "outputs": [],
   "source": [
    "FindSize <- function(x) {\n",
    "    #\n",
    "    # Function to check the size of a permutation\n",
    "    #\n",
    "    # Args:\n",
    "    #    x: permutation to find the size of\n",
    "    # Returns:\n",
    "    #    output: vector of possible swaps\n",
    "    # Dependencies:\n",
    "    #    function: Swap\n",
    "  # Input is a vector of the permutation in order\n",
    "  sizes <- c()\n",
    "  # Loop through each index of the permutation and multiply by the index\n",
    "  for (j in (1:length(x))) {\n",
    "    # Store these values in a vector\n",
    "    sizes[j] <- x[j]*j\n",
    "  }\n",
    "  # Return the sum of the vector of products\n",
    "  return(sum(sizes))\n",
    "}"
   ]
  },
  {
   "cell_type": "code",
   "execution_count": null,
   "metadata": {
    "collapsed": true
   },
   "outputs": [],
   "source": [
    "# A function which returns TRUE if the algrithm says to switch and FALSE if not\n",
    "ChangeCheck <- function (nX, nY) {\n",
    "  # Inputs are n(x) and n(y) - the number of neighbors of the start x and the\n",
    "  # proposed neighbor to switch to y\n",
    "  # If n(x) is greater than n(Y) always switch\n",
    "  if (nX >= nY) {\n",
    "    return (TRUE)\n",
    "  }\n",
    "  # Otherwise switch with probability n(x)/n(y)\n",
    "  else {\n",
    "    # Create a unif between 0 and 1 and if it is less than n(x)/n(y) switch\n",
    "    p <- nX/nY\n",
    "    u <- runif(1, 0, 1)\n",
    "    if (u <= p) {\n",
    "      return (TRUE)\n",
    "    }\n",
    "    else {\n",
    "      return (FALSE)\n",
    "    }\n",
    "  }\n",
    "}"
   ]
  },
  {
   "cell_type": "markdown",
   "metadata": {},
   "source": [
    "Out of a vector of neighbors, we need to pick one at random.\n",
    "We can use the R function \"sample\" for this, or we can use the following:"
   ]
  },
  {
   "cell_type": "code",
   "execution_count": null,
   "metadata": {
    "collapsed": true
   },
   "outputs": [],
   "source": [
    "# A function to pick a random neighbor\n",
    "RandomNeighbor <- function (neighbors) {\n",
    "  # Input is a vector of the neighbors\n",
    "  index <- runif (1, 1, length(neighbors))\n",
    "  return (neighbors[index])\n",
    "}"
   ]
  },
  {
   "cell_type": "code",
   "execution_count": null,
   "metadata": {
    "collapsed": true
   },
   "outputs": [],
   "source": [
    "# A function to find which of the possible swaps are neighbors when given the swaps and the k size cutoff\n",
    "WhichNeighbors <- function (possibleSwaps, k) {\n",
    "  neighbors <- c()\n",
    "  # Loop through each swap checking if its size is greater than k\n",
    "  for (j in 1:length(possibleSwaps)) {\n",
    "    if (FindSize(possibleSwaps[j]) >= k){\n",
    "      # If the swap produces a neighbor store it in the neighbors vector\n",
    "      append(neighbors, possibleSwaps[j], after = length(neighbors))\n",
    "    }\n",
    "  }\n",
    "  return (neighbors)\n",
    "}\n"
   ]
  },
  {
   "cell_type": "code",
   "execution_count": 3,
   "metadata": {
    "collapsed": true
   },
   "outputs": [],
   "source": [
    "# A markov chain monte carlo algorithm to find the average size of permutations\n",
    "# whose size is greater than a given k\n",
    "MCMC <- function (m = NULL, initPerm = NULL, k) {\n",
    "  # The input should be either an inital permutation or an m implying use the first m natural numbers\n",
    "  # and a k which is the lower cutoff for \"large\" permutations\n",
    "  # Start by creating a vector to store the mean of the sizes of large perm'ns\n",
    "  # Also store the number that have been added so we can calc avg size\n",
    "  bigPermAvg <- c(NULL, 0)\n",
    "  # Generate the first permutation (the largest one)\n",
    "  x <- GenX0(m, initPerm)\n",
    "  # Confirm its size is greater than k\n",
    "  if (FindSize(x) < k) {\n",
    "    return (NULL)\n",
    "  }\n",
    "  # Store the size of x0 and update the number in bigPermAvg[2]\n",
    "  bigPermAvg[1] <- FindSize(x)\n",
    "  bigPermAvg[2] <- bigPermAvg[2] + 1\n",
    "  # Designate the number of iterations to loop through\n",
    "  n <- 1000\n",
    "    for (i in 1:n) {\n",
    "      # Generate all possible neighbors of x\n",
    "      xSwaps <- GenSwaps(x)\n",
    "      # Find which of the possible neighbors actually are neighbors (i.e. size >= k)\n",
    "      xNeighbors <- WhichNeighbors(xSwaps, k)\n",
    "      # Loop through possible y permutations until we find one to switch to\n",
    "      swapped <- FALSE\n",
    "      while (!swapped){\n",
    "        # Pick a random neighbor to possibly switch to\n",
    "        y <- RandomNeighbor(xNeighbors)\n",
    "        # Generate the neighbors of y\n",
    "        ySwaps <- GenSwaps(y)\n",
    "        yNeighbors <- WhichNeighbors(ySwaps, k)\n",
    "        # If n(x) > n(y) or we choose to switch with prob n(x)/n(y) switch to the y permutation\n",
    "        if (ChangeCheck(length(xNeighbors), length(yNeighbors))) {\n",
    "          x <- y\n",
    "          swapped <- TRUE\n",
    "        }\n",
    "      }\n",
    "      # Update the average big size and the number of perm'ns that have been used\n",
    "      bigPermAvg[2] <- bigPermAvg[2] + 1\n",
    "      c <- bigPermAvg[2]\n",
    "      bigPermAvg[1] <- bigPermAvg[1]*((c-1)/c)+(FindSize(x)/c)\n",
    "    }\n",
    "  # Find the average size of all of the big permutations we've visited and return this value\n",
    "  return (bigPermAvg)\n",
    "}"
   ]
  },
  {
   "cell_type": "code",
   "execution_count": null,
   "metadata": {
    "collapsed": true
   },
   "outputs": [],
   "source": []
  }
 ],
 "metadata": {
  "kernelspec": {
   "display_name": "R",
   "language": "R",
   "name": "ir"
  },
  "language_info": {
   "codemirror_mode": "r",
   "file_extension": ".r",
   "mimetype": "text/x-r-source",
   "name": "R",
   "pygments_lexer": "r",
   "version": "3.3.1"
  }
 },
 "nbformat": 4,
 "nbformat_minor": 0
}
