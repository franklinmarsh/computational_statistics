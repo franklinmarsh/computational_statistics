{
 "cells": [
  {
   "cell_type": "markdown",
   "metadata": {},
   "source": [
    " # Lab 2\n",
    "  \n",
    " ### By Alejandra, Roja , and Franklin\n",
    " \n",
    " MATH0154 Computational Statistics with Prof. 😂Gabe Chandler😂\n"
   ]
  },
  {
   "cell_type": "markdown",
   "metadata": {},
   "source": [
    "👏 🙌 🍻"
   ]
  },
  {
   "cell_type": "code",
   "execution_count": 1,
   "metadata": {
    "collapsed": true
   },
   "outputs": [],
   "source": [
    "f <- function(x) {\n",
    "    #an example function for maximization\n",
    "  return(-x^{2} + 10*sin(x))\n",
    "}"
   ]
  },
  {
   "cell_type": "code",
   "execution_count": 2,
   "metadata": {
    "collapsed": true
   },
   "outputs": [],
   "source": [
    "Gen0 <- function(n, locale) {\n",
    "  return(runif(n, locale[1],locale[2]))\n",
    "} "
   ]
  },
  {
   "cell_type": "code",
   "execution_count": 263,
   "metadata": {
    "collapsed": true
   },
   "outputs": [],
   "source": [
    "BreedProb <- function(orgs, f) {\n",
    "  p <- exp(f(orgs))/sum(exp(f(orgs))) #probability of breeding array, length n organisms\n",
    "  df <- data.frame(orgs,p)\n",
    "  output <- df[order(df$p),] # orders by probability, ascending \n",
    "  return(output) # we want to return organisms ordered by probability of reproduction\n",
    "}\n",
    "\n",
    "Breed <- function(bp, n, k) { # functionally this has stayed the same\n",
    "  # select parents using multinom\n",
    "    parents <- list()\n",
    "    babies <- list()\n",
    "    \n",
    "    for (i in (1:n)){\n",
    "        parents[[i]] <- sort(sample(bp$orgs, size = 2, replace = FALSE,  prob = bp$p))\n",
    "    }\n",
    "    \n",
    "    for (j in (1:length(parents))) {\n",
    "        babies[[j]] <- runif(k, parents[[j]][1],parents[[j]][2])\n",
    "    }\n",
    "    \n",
    "    return(unlist(babies))\n",
    "    }\n",
    "\n",
    "Mutate <- function(new_gen, eps, pct) {\n",
    "    \n",
    "    n <- as.integer((pct/100.0)*length(new_gen))\n",
    "    \n",
    "    mutated_indices <- sample((1:length(new_gen)), n)\n",
    "    mutated <- new_gen[mutated_indices] + runif(n, -eps, eps)\n",
    "    new_gen[mutated_indices] <- mutated\n",
    "    \n",
    "    return(new_gen)\n",
    "    \n",
    "    }\n",
    "\n",
    "Select <- function(bp, cutoff) {\n",
    "    return(tail(bp, cutoff)$orgs)\n",
    "}"
   ]
  },
  {
   "cell_type": "code",
   "execution_count": 264,
   "metadata": {
    "collapsed": false
   },
   "outputs": [],
   "source": [
    "generations <- list(Gen0(10, c(-10,10)))\n",
    "\n",
    "std <- 10\n",
    "tol <- 0.001\n",
    "i <- 2"
   ]
  },
  {
   "cell_type": "code",
   "execution_count": 265,
   "metadata": {
    "collapsed": false
   },
   "outputs": [
    {
     "data": {
      "text/html": [
       "<ol>\n",
       "\t<li><ol class=list-inline>\n",
       "\t<li>-8.07181082200259</li>\n",
       "\t<li>6.37802165467292</li>\n",
       "\t<li>9.70278377644718</li>\n",
       "\t<li>5.86899628397077</li>\n",
       "\t<li>0.548161654733121</li>\n",
       "\t<li>-6.49352680891752</li>\n",
       "\t<li>-1.4615144347772</li>\n",
       "\t<li>5.31330097466707</li>\n",
       "\t<li>4.79664902202785</li>\n",
       "\t<li>-3.81065576802939</li>\n",
       "</ol>\n",
       "</li>\n",
       "</ol>\n"
      ],
      "text/latex": [
       "\\begin{enumerate}\n",
       "\\item \\begin{enumerate*}\n",
       "\\item -8.07181082200259\n",
       "\\item 6.37802165467292\n",
       "\\item 9.70278377644718\n",
       "\\item 5.86899628397077\n",
       "\\item 0.548161654733121\n",
       "\\item -6.49352680891752\n",
       "\\item -1.4615144347772\n",
       "\\item 5.31330097466707\n",
       "\\item 4.79664902202785\n",
       "\\item -3.81065576802939\n",
       "\\end{enumerate*}\n",
       "\n",
       "\\end{enumerate}\n"
      ],
      "text/markdown": [
       "1. 1. -8.07181082200259\n",
       "2. 6.37802165467292\n",
       "3. 9.70278377644718\n",
       "4. 5.86899628397077\n",
       "5. 0.548161654733121\n",
       "6. -6.49352680891752\n",
       "7. -1.4615144347772\n",
       "8. 5.31330097466707\n",
       "9. 4.79664902202785\n",
       "10. -3.81065576802939\n",
       "\n",
       "\n",
       "\n",
       "\n",
       "\n"
      ],
      "text/plain": [
       "[[1]]\n",
       " [1] -8.0718108  6.3780217  9.7027838  5.8689963  0.5481617 -6.4935268\n",
       " [7] -1.4615144  5.3133010  4.7966490 -3.8106558\n"
      ]
     },
     "metadata": {},
     "output_type": "display_data"
    }
   ],
   "source": [
    "generations"
   ]
  },
  {
   "cell_type": "code",
   "execution_count": 266,
   "metadata": {
    "collapsed": false
   },
   "outputs": [],
   "source": [
    "while (std > tol) {\n",
    "    bp <- BreedProb(generations[[i-1]], f)\n",
    "    new_gen <- Breed(bp,10,10)\n",
    "    mutated <- Mutate(new_gen, std, 10)\n",
    "    \n",
    "    new_bp <- BreedProb(mutated, f)\n",
    "    generations[[i]] <- Select(new_bp,10)\n",
    "    std <- sd(generations[[i]])\n",
    "    i <- i+1\n",
    "}"
   ]
  },
  {
   "cell_type": "code",
   "execution_count": 267,
   "metadata": {
    "collapsed": false
   },
   "outputs": [
    {
     "data": {
      "text/html": [
       "<ol>\n",
       "\t<li><ol class=list-inline>\n",
       "\t<li>-8.07181082200259</li>\n",
       "\t<li>6.37802165467292</li>\n",
       "\t<li>9.70278377644718</li>\n",
       "\t<li>5.86899628397077</li>\n",
       "\t<li>0.548161654733121</li>\n",
       "\t<li>-6.49352680891752</li>\n",
       "\t<li>-1.4615144347772</li>\n",
       "\t<li>5.31330097466707</li>\n",
       "\t<li>4.79664902202785</li>\n",
       "\t<li>-3.81065576802939</li>\n",
       "</ol>\n",
       "</li>\n",
       "\t<li><ol class=list-inline>\n",
       "\t<li>0.135079219654719</li>\n",
       "\t<li>0.139517009610445</li>\n",
       "\t<li>0.150042603751456</li>\n",
       "\t<li>0.151816962440539</li>\n",
       "\t<li>0.276814796924906</li>\n",
       "\t<li>0.286953513896612</li>\n",
       "\t<li>2.2404919331982</li>\n",
       "\t<li>0.414804155722611</li>\n",
       "\t<li>0.442454141473837</li>\n",
       "\t<li>0.456255625479828</li>\n",
       "</ol>\n",
       "</li>\n",
       "\t<li><ol class=list-inline>\n",
       "\t<li>1.01338170830247</li>\n",
       "\t<li>1.05630503359995</li>\n",
       "\t<li>1.07408951937184</li>\n",
       "\t<li>1.51673094147172</li>\n",
       "\t<li>1.09573220359184</li>\n",
       "\t<li>1.16314162403854</li>\n",
       "\t<li>1.44642454758636</li>\n",
       "\t<li>1.41127147225811</li>\n",
       "\t<li>1.21227159565117</li>\n",
       "\t<li>1.28418703545727</li>\n",
       "</ol>\n",
       "</li>\n",
       "\t<li><ol class=list-inline>\n",
       "\t<li>1.29409389800685</li>\n",
       "\t<li>1.29613630075027</li>\n",
       "\t<li>1.3167220055627</li>\n",
       "\t<li>1.31654691500325</li>\n",
       "\t<li>1.29926014627482</li>\n",
       "\t<li>1.30035720934569</li>\n",
       "\t<li>1.30063477750854</li>\n",
       "\t<li>1.30180680085638</li>\n",
       "\t<li>1.30210534282786</li>\n",
       "\t<li>1.30975319462829</li>\n",
       "</ol>\n",
       "</li>\n",
       "\t<li><ol class=list-inline>\n",
       "\t<li>1.30741618285517</li>\n",
       "\t<li>1.30732979709494</li>\n",
       "\t<li>1.30560977708091</li>\n",
       "\t<li>1.30725380857593</li>\n",
       "\t<li>1.30719596152041</li>\n",
       "\t<li>1.30570036824577</li>\n",
       "\t<li>1.30581296096873</li>\n",
       "\t<li>1.30702548185577</li>\n",
       "\t<li>1.30696402835272</li>\n",
       "\t<li>1.30668220944921</li>\n",
       "</ol>\n",
       "</li>\n",
       "</ol>\n"
      ],
      "text/latex": [
       "\\begin{enumerate}\n",
       "\\item \\begin{enumerate*}\n",
       "\\item -8.07181082200259\n",
       "\\item 6.37802165467292\n",
       "\\item 9.70278377644718\n",
       "\\item 5.86899628397077\n",
       "\\item 0.548161654733121\n",
       "\\item -6.49352680891752\n",
       "\\item -1.4615144347772\n",
       "\\item 5.31330097466707\n",
       "\\item 4.79664902202785\n",
       "\\item -3.81065576802939\n",
       "\\end{enumerate*}\n",
       "\n",
       "\\item \\begin{enumerate*}\n",
       "\\item 0.135079219654719\n",
       "\\item 0.139517009610445\n",
       "\\item 0.150042603751456\n",
       "\\item 0.151816962440539\n",
       "\\item 0.276814796924906\n",
       "\\item 0.286953513896612\n",
       "\\item 2.2404919331982\n",
       "\\item 0.414804155722611\n",
       "\\item 0.442454141473837\n",
       "\\item 0.456255625479828\n",
       "\\end{enumerate*}\n",
       "\n",
       "\\item \\begin{enumerate*}\n",
       "\\item 1.01338170830247\n",
       "\\item 1.05630503359995\n",
       "\\item 1.07408951937184\n",
       "\\item 1.51673094147172\n",
       "\\item 1.09573220359184\n",
       "\\item 1.16314162403854\n",
       "\\item 1.44642454758636\n",
       "\\item 1.41127147225811\n",
       "\\item 1.21227159565117\n",
       "\\item 1.28418703545727\n",
       "\\end{enumerate*}\n",
       "\n",
       "\\item \\begin{enumerate*}\n",
       "\\item 1.29409389800685\n",
       "\\item 1.29613630075027\n",
       "\\item 1.3167220055627\n",
       "\\item 1.31654691500325\n",
       "\\item 1.29926014627482\n",
       "\\item 1.30035720934569\n",
       "\\item 1.30063477750854\n",
       "\\item 1.30180680085638\n",
       "\\item 1.30210534282786\n",
       "\\item 1.30975319462829\n",
       "\\end{enumerate*}\n",
       "\n",
       "\\item \\begin{enumerate*}\n",
       "\\item 1.30741618285517\n",
       "\\item 1.30732979709494\n",
       "\\item 1.30560977708091\n",
       "\\item 1.30725380857593\n",
       "\\item 1.30719596152041\n",
       "\\item 1.30570036824577\n",
       "\\item 1.30581296096873\n",
       "\\item 1.30702548185577\n",
       "\\item 1.30696402835272\n",
       "\\item 1.30668220944921\n",
       "\\end{enumerate*}\n",
       "\n",
       "\\end{enumerate}\n"
      ],
      "text/markdown": [
       "1. 1. -8.07181082200259\n",
       "2. 6.37802165467292\n",
       "3. 9.70278377644718\n",
       "4. 5.86899628397077\n",
       "5. 0.548161654733121\n",
       "6. -6.49352680891752\n",
       "7. -1.4615144347772\n",
       "8. 5.31330097466707\n",
       "9. 4.79664902202785\n",
       "10. -3.81065576802939\n",
       "\n",
       "\n",
       "\n",
       "2. 1. 0.135079219654719\n",
       "2. 0.139517009610445\n",
       "3. 0.150042603751456\n",
       "4. 0.151816962440539\n",
       "5. 0.276814796924906\n",
       "6. 0.286953513896612\n",
       "7. 2.2404919331982\n",
       "8. 0.414804155722611\n",
       "9. 0.442454141473837\n",
       "10. 0.456255625479828\n",
       "\n",
       "\n",
       "\n",
       "3. 1. 1.01338170830247\n",
       "2. 1.05630503359995\n",
       "3. 1.07408951937184\n",
       "4. 1.51673094147172\n",
       "5. 1.09573220359184\n",
       "6. 1.16314162403854\n",
       "7. 1.44642454758636\n",
       "8. 1.41127147225811\n",
       "9. 1.21227159565117\n",
       "10. 1.28418703545727\n",
       "\n",
       "\n",
       "\n",
       "4. 1. 1.29409389800685\n",
       "2. 1.29613630075027\n",
       "3. 1.3167220055627\n",
       "4. 1.31654691500325\n",
       "5. 1.29926014627482\n",
       "6. 1.30035720934569\n",
       "7. 1.30063477750854\n",
       "8. 1.30180680085638\n",
       "9. 1.30210534282786\n",
       "10. 1.30975319462829\n",
       "\n",
       "\n",
       "\n",
       "5. 1. 1.30741618285517\n",
       "2. 1.30732979709494\n",
       "3. 1.30560977708091\n",
       "4. 1.30725380857593\n",
       "5. 1.30719596152041\n",
       "6. 1.30570036824577\n",
       "7. 1.30581296096873\n",
       "8. 1.30702548185577\n",
       "9. 1.30696402835272\n",
       "10. 1.30668220944921\n",
       "\n",
       "\n",
       "\n",
       "\n",
       "\n"
      ],
      "text/plain": [
       "[[1]]\n",
       " [1] -8.0718108  6.3780217  9.7027838  5.8689963  0.5481617 -6.4935268\n",
       " [7] -1.4615144  5.3133010  4.7966490 -3.8106558\n",
       "\n",
       "[[2]]\n",
       " [1] 0.1350792 0.1395170 0.1500426 0.1518170 0.2768148 0.2869535 2.2404919\n",
       " [8] 0.4148042 0.4424541 0.4562556\n",
       "\n",
       "[[3]]\n",
       " [1] 1.013382 1.056305 1.074090 1.516731 1.095732 1.163142 1.446425 1.411271\n",
       " [9] 1.212272 1.284187\n",
       "\n",
       "[[4]]\n",
       " [1] 1.294094 1.296136 1.316722 1.316547 1.299260 1.300357 1.300635 1.301807\n",
       " [9] 1.302105 1.309753\n",
       "\n",
       "[[5]]\n",
       " [1] 1.307416 1.307330 1.305610 1.307254 1.307196 1.305700 1.305813 1.307025\n",
       " [9] 1.306964 1.306682\n"
      ]
     },
     "metadata": {},
     "output_type": "display_data"
    }
   ],
   "source": [
    "generations"
   ]
  },
  {
   "cell_type": "code",
   "execution_count": 268,
   "metadata": {
    "collapsed": false
   },
   "outputs": [],
   "source": [
    "final_xy <- data.frame(gen_vector, f(gen_vector))"
   ]
  },
  {
   "cell_type": "code",
   "execution_count": 269,
   "metadata": {
    "collapsed": false
   },
   "outputs": [
    {
     "data": {
      "text/html": [
       "<table>\n",
       "<thead><tr><th></th><th scope=col>gen_vector</th><th scope=col>f.gen_vector.</th></tr></thead>\n",
       "<tbody>\n",
       "\t<tr><th scope=row>1</th><td>-0.1125561</td><td>-1.1358550</td></tr>\n",
       "\t<tr><th scope=row>2</th><td>-0.4368612</td><td>-4.4218228</td></tr>\n",
       "\t<tr><th scope=row>3</th><td>1.473738</td><td>7.781032</td></tr>\n",
       "\t<tr><th scope=row>4</th><td>-3.527680</td><td>-8.678859</td></tr>\n",
       "\t<tr><th scope=row>5</th><td> -2.620395</td><td>-11.845661</td></tr>\n",
       "\t<tr><th scope=row>6</th><td>  3.868909</td><td>-21.617136</td></tr>\n",
       "\t<tr><th scope=row>7</th><td> -9.316968</td><td>-87.881902</td></tr>\n",
       "\t<tr><th scope=row>8</th><td> -9.705146</td><td>-91.422763</td></tr>\n",
       "\t<tr><th scope=row>9</th><td> -2.734488</td><td>-11.436949</td></tr>\n",
       "\t<tr><th scope=row>10</th><td> 2.860908</td><td>-5.414655</td></tr>\n",
       "\t<tr><th scope=row>11</th><td>1.242910</td><td>7.922426</td></tr>\n",
       "\t<tr><th scope=row>12</th><td>1.246434</td><td>7.924944</td></tr>\n",
       "\t<tr><th scope=row>13</th><td>1.255876</td><td>7.930986</td></tr>\n",
       "\t<tr><th scope=row>14</th><td>1.270154</td><td>7.938173</td></tr>\n",
       "\t<tr><th scope=row>15</th><td>1.337391</td><td>7.940230</td></tr>\n",
       "\t<tr><th scope=row>16</th><td>1.287547</td><td>7.943747</td></tr>\n",
       "\t<tr><th scope=row>17</th><td>1.320884</td><td>7.944606</td></tr>\n",
       "\t<tr><th scope=row>18</th><td>1.296745</td><td>7.945276</td></tr>\n",
       "\t<tr><th scope=row>19</th><td>1.301543</td><td>7.945684</td></tr>\n",
       "\t<tr><th scope=row>20</th><td>1.302168</td><td>7.945717</td></tr>\n",
       "\t<tr><th scope=row>21</th><td>1.301770</td><td>7.945696</td></tr>\n",
       "\t<tr><th scope=row>22</th><td>1.301889</td><td>7.945703</td></tr>\n",
       "\t<tr><th scope=row>23</th><td>1.301916</td><td>7.945704</td></tr>\n",
       "\t<tr><th scope=row>24</th><td>1.301950</td><td>7.945706</td></tr>\n",
       "\t<tr><th scope=row>25</th><td>1.302008</td><td>7.945709</td></tr>\n",
       "\t<tr><th scope=row>26</th><td>1.302049</td><td>7.945711</td></tr>\n",
       "\t<tr><th scope=row>27</th><td>1.302158</td><td>7.945717</td></tr>\n",
       "\t<tr><th scope=row>28</th><td>1.305508</td><td>7.945818</td></tr>\n",
       "\t<tr><th scope=row>29</th><td>1.305717</td><td>7.945820</td></tr>\n",
       "\t<tr><th scope=row>30</th><td>1.306311</td><td>7.945823</td></tr>\n",
       "</tbody>\n",
       "</table>\n"
      ],
      "text/latex": [
       "\\begin{tabular}{r|ll}\n",
       "  & gen\\_vector & f.gen\\_vector.\\\\\n",
       "\\hline\n",
       "\t1 & -0.1125561 & -1.1358550\\\\\n",
       "\t2 & -0.4368612 & -4.4218228\\\\\n",
       "\t3 & 1.473738 & 7.781032\\\\\n",
       "\t4 & -3.527680 & -8.678859\\\\\n",
       "\t5 &  -2.620395 & -11.845661\\\\\n",
       "\t6 &   3.868909 & -21.617136\\\\\n",
       "\t7 &  -9.316968 & -87.881902\\\\\n",
       "\t8 &  -9.705146 & -91.422763\\\\\n",
       "\t9 &  -2.734488 & -11.436949\\\\\n",
       "\t10 &  2.860908 & -5.414655\\\\\n",
       "\t11 & 1.242910 & 7.922426\\\\\n",
       "\t12 & 1.246434 & 7.924944\\\\\n",
       "\t13 & 1.255876 & 7.930986\\\\\n",
       "\t14 & 1.270154 & 7.938173\\\\\n",
       "\t15 & 1.337391 & 7.940230\\\\\n",
       "\t16 & 1.287547 & 7.943747\\\\\n",
       "\t17 & 1.320884 & 7.944606\\\\\n",
       "\t18 & 1.296745 & 7.945276\\\\\n",
       "\t19 & 1.301543 & 7.945684\\\\\n",
       "\t20 & 1.302168 & 7.945717\\\\\n",
       "\t21 & 1.301770 & 7.945696\\\\\n",
       "\t22 & 1.301889 & 7.945703\\\\\n",
       "\t23 & 1.301916 & 7.945704\\\\\n",
       "\t24 & 1.301950 & 7.945706\\\\\n",
       "\t25 & 1.302008 & 7.945709\\\\\n",
       "\t26 & 1.302049 & 7.945711\\\\\n",
       "\t27 & 1.302158 & 7.945717\\\\\n",
       "\t28 & 1.305508 & 7.945818\\\\\n",
       "\t29 & 1.305717 & 7.945820\\\\\n",
       "\t30 & 1.306311 & 7.945823\\\\\n",
       "\\end{tabular}\n"
      ],
      "text/plain": [
       "   gen_vector f.gen_vector.\n",
       "1  -0.1125561     -1.135855\n",
       "2  -0.4368612     -4.421823\n",
       "3   1.4737376      7.781032\n",
       "4  -3.5276802     -8.678859\n",
       "5  -2.6203950    -11.845661\n",
       "6   3.8689093    -21.617136\n",
       "7  -9.3169677    -87.881902\n",
       "8  -9.7051457    -91.422763\n",
       "9  -2.7344875    -11.436949\n",
       "10  2.8609077     -5.414655\n",
       "11  1.2429101      7.922426\n",
       "12  1.2464342      7.924944\n",
       "13  1.2558764      7.930986\n",
       "14  1.2701537      7.938173\n",
       "15  1.3373906      7.940230\n",
       "16  1.2875474      7.943747\n",
       "17  1.3208844      7.944606\n",
       "18  1.2967451      7.945276\n",
       "19  1.3015429      7.945684\n",
       "20  1.3021683      7.945717\n",
       "21  1.3017696      7.945696\n",
       "22  1.3018888      7.945703\n",
       "23  1.3019158      7.945704\n",
       "24  1.3019503      7.945706\n",
       "25  1.3020082      7.945709\n",
       "26  1.3020490      7.945711\n",
       "27  1.3021583      7.945717\n",
       "28  1.3055078      7.945818\n",
       "29  1.3057166      7.945820\n",
       "30  1.3063114      7.945823"
      ]
     },
     "metadata": {},
     "output_type": "display_data"
    }
   ],
   "source": [
    "final_xy"
   ]
  },
  {
   "cell_type": "code",
   "execution_count": 270,
   "metadata": {
    "collapsed": false
   },
   "outputs": [
    {
     "data": {
      "text/html": [
       "<ol class=list-inline>\n",
       "\t<li>-1.135854998481</li>\n",
       "\t<li>-4.42182278474186</li>\n",
       "\t<li>7.78103238384383</li>\n",
       "\t<li>-8.67885910117188</li>\n",
       "\t<li>-11.8456611142186</li>\n",
       "\t<li>-21.6171355377278</li>\n",
       "\t<li>-87.8819021677595</li>\n",
       "\t<li>-91.4227628454083</li>\n",
       "\t<li>-11.4369491975053</li>\n",
       "\t<li>-5.4146548599458</li>\n",
       "\t<li>7.9224263240765</li>\n",
       "\t<li>7.92494387725481</li>\n",
       "\t<li>7.93098632972362</li>\n",
       "\t<li>7.93817341956132</li>\n",
       "\t<li>7.94022959817508</li>\n",
       "\t<li>7.94374676975655</li>\n",
       "\t<li>7.94460647282624</li>\n",
       "\t<li>7.94527615010829</li>\n",
       "\t<li>7.9456837002379</li>\n",
       "\t<li>7.94571709656091</li>\n",
       "\t<li>7.9456963310714</li>\n",
       "\t<li>7.94570273133281</li>\n",
       "\t<li>7.94570415976245</li>\n",
       "\t<li>7.94570597131758</li>\n",
       "\t<li>7.9457089780083</li>\n",
       "\t<li>7.94571107675801</li>\n",
       "\t<li>7.94571659776426</li>\n",
       "\t<li>7.9458183131929</li>\n",
       "\t<li>7.94582032711335</li>\n",
       "\t<li>7.94582327929777</li>\n",
       "</ol>\n"
      ],
      "text/latex": [
       "\\begin{enumerate*}\n",
       "\\item -1.135854998481\n",
       "\\item -4.42182278474186\n",
       "\\item 7.78103238384383\n",
       "\\item -8.67885910117188\n",
       "\\item -11.8456611142186\n",
       "\\item -21.6171355377278\n",
       "\\item -87.8819021677595\n",
       "\\item -91.4227628454083\n",
       "\\item -11.4369491975053\n",
       "\\item -5.4146548599458\n",
       "\\item 7.9224263240765\n",
       "\\item 7.92494387725481\n",
       "\\item 7.93098632972362\n",
       "\\item 7.93817341956132\n",
       "\\item 7.94022959817508\n",
       "\\item 7.94374676975655\n",
       "\\item 7.94460647282624\n",
       "\\item 7.94527615010829\n",
       "\\item 7.9456837002379\n",
       "\\item 7.94571709656091\n",
       "\\item 7.9456963310714\n",
       "\\item 7.94570273133281\n",
       "\\item 7.94570415976245\n",
       "\\item 7.94570597131758\n",
       "\\item 7.9457089780083\n",
       "\\item 7.94571107675801\n",
       "\\item 7.94571659776426\n",
       "\\item 7.9458183131929\n",
       "\\item 7.94582032711335\n",
       "\\item 7.94582327929777\n",
       "\\end{enumerate*}\n"
      ],
      "text/markdown": [
       "1. -1.135854998481\n",
       "2. -4.42182278474186\n",
       "3. 7.78103238384383\n",
       "4. -8.67885910117188\n",
       "5. -11.8456611142186\n",
       "6. -21.6171355377278\n",
       "7. -87.8819021677595\n",
       "8. -91.4227628454083\n",
       "9. -11.4369491975053\n",
       "10. -5.4146548599458\n",
       "11. 7.9224263240765\n",
       "12. 7.92494387725481\n",
       "13. 7.93098632972362\n",
       "14. 7.93817341956132\n",
       "15. 7.94022959817508\n",
       "16. 7.94374676975655\n",
       "17. 7.94460647282624\n",
       "18. 7.94527615010829\n",
       "19. 7.9456837002379\n",
       "20. 7.94571709656091\n",
       "21. 7.9456963310714\n",
       "22. 7.94570273133281\n",
       "23. 7.94570415976245\n",
       "24. 7.94570597131758\n",
       "25. 7.9457089780083\n",
       "26. 7.94571107675801\n",
       "27. 7.94571659776426\n",
       "28. 7.9458183131929\n",
       "29. 7.94582032711335\n",
       "30. 7.94582327929777\n",
       "\n",
       "\n"
      ],
      "text/plain": [
       " [1]  -1.135855  -4.421823   7.781032  -8.678859 -11.845661 -21.617136\n",
       " [7] -87.881902 -91.422763 -11.436949  -5.414655   7.922426   7.924944\n",
       "[13]   7.930986   7.938173   7.940230   7.943747   7.944606   7.945276\n",
       "[19]   7.945684   7.945717   7.945696   7.945703   7.945704   7.945706\n",
       "[25]   7.945709   7.945711   7.945717   7.945818   7.945820   7.945823"
      ]
     },
     "metadata": {},
     "output_type": "display_data"
    }
   ],
   "source": [
    "final_xy$f.gen_vector."
   ]
  },
  {
   "cell_type": "code",
   "execution_count": 271,
   "metadata": {
    "collapsed": false
   },
   "outputs": [],
   "source": [
    "sol <- tail(final_xy[order(final_xy$f.gen_vector),],1)$gen_vector"
   ]
  },
  {
   "cell_type": "code",
   "execution_count": 272,
   "metadata": {
    "collapsed": false
   },
   "outputs": [
    {
     "data": {
      "text/html": [
       "1.30631143289573"
      ],
      "text/latex": [
       "1.30631143289573"
      ],
      "text/markdown": [
       "1.30631143289573"
      ],
      "text/plain": [
       "[1] 1.306311"
      ]
     },
     "metadata": {},
     "output_type": "display_data"
    }
   ],
   "source": [
    "sol"
   ]
  },
  {
   "cell_type": "code",
   "execution_count": 273,
   "metadata": {
    "collapsed": false
   },
   "outputs": [
    {
     "data": {
      "image/png": "[encoded data removed]",
      "text/plain": [
       "plot without title"
      ]
     },
     "metadata": {
      "image/svg+xml": {
       "isolated": true
      }
     },
     "output_type": "display_data"
    }
   ],
   "source": [
    "gen_vector <- unlist(generations)\n",
    "\n",
    "plot(log(abs((gen_vector) - gen_vector[length(gen_vector)])))"
   ]
  },
  {
   "cell_type": "code",
   "execution_count": 275,
   "metadata": {
    "collapsed": false
   },
   "outputs": [
    {
     "data": {
      "image/png": "[encoded data removed]",
      "text/plain": [
       "plot without title"
      ]
     },
     "metadata": {
      "image/svg+xml": {
       "isolated": true
      }
     },
     "output_type": "display_data"
    }
   ],
   "source": [
    "plot(seq(-10,10, 0.01),f(seq(-10,10, 0.01)))\n",
    "abline(v = sol)"
   ]
  },
  {
   "cell_type": "code",
   "execution_count": null,
   "metadata": {
    "collapsed": true
   },
   "outputs": [],
   "source": []
  }
 ],
 "metadata": {
  "kernelspec": {
   "display_name": "R",
   "language": "R",
   "name": "ir"
  },
  "language_info": {
   "codemirror_mode": "r",
   "file_extension": ".r",
   "mimetype": "text/x-r-source",
   "name": "R",
   "pygments_lexer": "r",
   "version": "3.3.1"
  }
 },
 "nbformat": 4,
 "nbformat_minor": 0
}
